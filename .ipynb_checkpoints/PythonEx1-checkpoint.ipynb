{
 "cells": [
  {
   "cell_type": "code",
   "execution_count": 0,
   "metadata": {
    "colab": {},
    "colab_type": "code",
    "id": "HEQeJBN8t6WA"
   },
   "outputs": [],
   "source": [
    "import numpy as np\n",
    "a = np.arange(15).reshape(3,5)"
   ]
  },
  {
   "cell_type": "code",
   "execution_count": 0,
   "metadata": {
    "colab": {},
    "colab_type": "code",
    "id": "GYgfz1apzzkn"
   },
   "outputs": [],
   "source": [
    "print(a)"
   ]
  },
  {
   "cell_type": "code",
   "execution_count": 0,
   "metadata": {
    "colab": {},
    "colab_type": "code",
    "id": "Q1LIUDlA0OL6"
   },
   "outputs": [],
   "source": [
    "print('a.shape: ',a.shape)"
   ]
  },
  {
   "cell_type": "code",
   "execution_count": 0,
   "metadata": {
    "colab": {},
    "colab_type": "code",
    "id": "iaG3wivY0jMi"
   },
   "outputs": [],
   "source": [
    "print('a.ndim: ',a.ndim)"
   ]
  },
  {
   "cell_type": "code",
   "execution_count": 0,
   "metadata": {
    "colab": {},
    "colab_type": "code",
    "id": "qYPYngMf0qAc"
   },
   "outputs": [],
   "source": [
    "b = np.arange(15)\n",
    "print('b.ndim: ',b.ndim)"
   ]
  },
  {
   "cell_type": "code",
   "execution_count": 0,
   "metadata": {
    "colab": {},
    "colab_type": "code",
    "id": "M3BLJX7m0zjD"
   },
   "outputs": [],
   "source": [
    "print('a.dtype.name: ',a.dtype.name)"
   ]
  },
  {
   "cell_type": "code",
   "execution_count": 0,
   "metadata": {
    "colab": {},
    "colab_type": "code",
    "id": "K48OZV1s1DAS"
   },
   "outputs": [],
   "source": [
    "print('a.itemsize: ',a.itemsize)"
   ]
  },
  {
   "cell_type": "code",
   "execution_count": 0,
   "metadata": {
    "colab": {},
    "colab_type": "code",
    "id": "eUmnuLJZ2MHB"
   },
   "outputs": [],
   "source": [
    "print('a.size: ',a.size)"
   ]
  },
  {
   "cell_type": "code",
   "execution_count": 0,
   "metadata": {
    "colab": {},
    "colab_type": "code",
    "id": "byRMqyA92SEK"
   },
   "outputs": [],
   "source": [
    "print('type(a): ',type(a))"
   ]
  },
  {
   "cell_type": "markdown",
   "metadata": {
    "colab_type": "text",
    "id": "UtvxYfit55-m"
   },
   "source": [
    "# Numpy 어레이 만들기\n",
    "## markdown 문법 쓴다고함 \n",
    "### #갯수 1~6까지 써서 글자크기 조절\n",
    "###**볼드**는 ** **"
   ]
  },
  {
   "cell_type": "code",
   "execution_count": 0,
   "metadata": {
    "colab": {},
    "colab_type": "code",
    "id": "tnVXeAGg2cbf"
   },
   "outputs": [],
   "source": [
    "#np.array()\n",
    "\n",
    "import numpy as np\n",
    "temp = [2,3,4]\n",
    "a = np.array(temp) # python list를 numpy array로 변환\n",
    "print(a)\n",
    "print(temp)"
   ]
  },
  {
   "cell_type": "code",
   "execution_count": 0,
   "metadata": {
    "colab": {},
    "colab_type": "code",
    "id": "OJpi_OaX7HoV"
   },
   "outputs": [],
   "source": [
    "print(type(a))\n",
    "print(type(temp))"
   ]
  },
  {
   "cell_type": "code",
   "execution_count": 0,
   "metadata": {
    "colab": {},
    "colab_type": "code",
    "id": "95Ms2OYM7KLQ"
   },
   "outputs": [],
   "source": [
    "print('a.ndim: ',a.ndim)\n",
    "# print('temp.ndim: ',temp.ndim) -> 에러\n",
    "\n",
    "print('a.dtype: ',a.dtype)"
   ]
  },
  {
   "cell_type": "code",
   "execution_count": 0,
   "metadata": {
    "colab": {},
    "colab_type": "code",
    "id": "Z-9WYYwO7RNu"
   },
   "outputs": [],
   "source": [
    "temp2 = [1.2, 3.5, 5.1]\n",
    "b = np.array(temp2)\n",
    "print('b.dtype:', b.dtype)"
   ]
  },
  {
   "cell_type": "code",
   "execution_count": 0,
   "metadata": {
    "colab": {},
    "colab_type": "code",
    "id": "Gyt4E8j78hhf"
   },
   "outputs": [],
   "source": [
    "import numpy as np\n",
    "\n",
    "c = np.array([(1.5, 2, 3), (4, 5, 6)])\n",
    "print(c)\n",
    "print(c.dtype)"
   ]
  },
  {
   "cell_type": "code",
   "execution_count": 0,
   "metadata": {
    "colab": {},
    "colab_type": "code",
    "id": "2U6HHEpZ8759"
   },
   "outputs": [],
   "source": [
    "import numpy as np\n",
    "\n",
    "d = np.array([[1, 2], [3, 4]], dtype=complex)\n",
    "print(d)"
   ]
  },
  {
   "cell_type": "markdown",
   "metadata": {
    "colab_type": "text",
    "id": "DvcRm3kt-hXP"
   },
   "source": [
    "### **np.zeros(), np.ones(), np.empty()**"
   ]
  },
  {
   "cell_type": "code",
   "execution_count": 0,
   "metadata": {
    "colab": {},
    "colab_type": "code",
    "id": "eh04BlQO-eFe"
   },
   "outputs": [],
   "source": [
    "import numpy as np\n",
    "# 튜플은 행렬 사이즈\n",
    "a = np.zeros((3,4))\n",
    "b = np.zeros([3,4])\n",
    "print(a)\n",
    "print(b)\n",
    "\n",
    "c = np.ones((2,3,4), dtype = np.int8)*255 # 또는 +254 => 흰 배경\n",
    "print(c)\n",
    "\n",
    "d = np.empty((2,3)) # 초기화 하지않고 쓰겠다는 의미\n",
    "print(d)"
   ]
  },
  {
   "cell_type": "markdown",
   "metadata": {
    "colab_type": "text",
    "id": "V6RSHdXCBHdm"
   },
   "source": [
    "###**np.arange()**"
   ]
  },
  {
   "cell_type": "code",
   "execution_count": 0,
   "metadata": {
    "colab": {},
    "colab_type": "code",
    "id": "oURqQVMeBGLy"
   },
   "outputs": [],
   "source": [
    "import numpy as np\n",
    "\n",
    "a = np.arange(10, 40, 5) # (start, stop, step or interval)\n",
    "b = np.arange(0, 2, 0.3)\n",
    "\n",
    "print(a)\n",
    "print(b)"
   ]
  },
  {
   "cell_type": "code",
   "execution_count": 0,
   "metadata": {
    "colab": {},
    "colab_type": "code",
    "id": "o72PlEBtCB49"
   },
   "outputs": [],
   "source": [
    "import numpy as np\n",
    "a = np.arange(12).reshape(4,3) # 2d array\n",
    "b = np.arange(24).reshape(2,3,4) # 3d array\n",
    "\n",
    "print(a)\n",
    "print(b)"
   ]
  },
  {
   "cell_type": "code",
   "execution_count": 0,
   "metadata": {
    "colab": {},
    "colab_type": "code",
    "id": "cK2wF_w5Ce2B"
   },
   "outputs": [],
   "source": [
    "import numpy as np\n",
    "import sys\n",
    "a = np.arange(10000).reshape(100,100)\n",
    "np.set_printoptions(threshold=sys.maxsize)\n",
    "print(sys.maxsize)\n",
    "print(a)"
   ]
  },
  {
   "cell_type": "markdown",
   "metadata": {
    "colab_type": "text",
    "id": "mxwWm8f2Ur28"
   },
   "source": [
    "### **numpy array의 산술연산"
   ]
  },
  {
   "cell_type": "code",
   "execution_count": 0,
   "metadata": {
    "colab": {},
    "colab_type": "code",
    "id": "KunH5b_jUp6i"
   },
   "outputs": [],
   "source": [
    "import numpy as np\n",
    "\n",
    "a = np.array([20, 30, 40, 50])\n",
    "b = np.arange(4)\n",
    "\n",
    "c = a - b\n",
    "\n",
    "print(a)\n",
    "print(b)\n",
    "\n",
    "print(c)\n",
    "\n",
    "d = [1, 2, 3, 4]\n",
    "e = [0, 1, 0, 1]\n",
    "f = d-e\n",
    "print(f)"
   ]
  },
  {
   "cell_type": "code",
   "execution_count": 0,
   "metadata": {
    "colab": {},
    "colab_type": "code",
    "id": "mB8G1a9sW3-Q"
   },
   "outputs": [],
   "source": [
    "import numpy as np\n",
    "\n",
    "a = np.array([20, 30, 40, 50])\n",
    "b = np.arange(4)\n",
    "print(b)\n",
    "print(b**2)\n",
    "\n",
    "print(np.sin(a))\n",
    "\n",
    "for i in range(0, 100, 1):\n",
    "  print(np.sin(i/10))\n",
    "\n",
    "c = np.array(range(0,7,1))\n",
    "print(c)\n",
    "print(np.sin(c))"
   ]
  },
  {
   "cell_type": "markdown",
   "metadata": {
    "colab_type": "text",
    "id": "MfNrDFPmZhd6"
   },
   "source": [
    "##**numpy array 곱셈연산, 행렬곱 연산**"
   ]
  },
  {
   "cell_type": "code",
   "execution_count": 0,
   "metadata": {
    "colab": {},
    "colab_type": "code",
    "id": "8bqdhfy_ZfnL"
   },
   "outputs": [],
   "source": [
    "import numpy as np\n",
    "\n",
    "a = np.array([[1, 1], [0, 1]])\n",
    "b = np.array([[2, 0], [3, 4]])\n",
    "\n",
    "print(a*b)      # elementwise product 각 요소마다 곱셈\n",
    "print(a@b)      # matrix product 행렬 곱\n",
    "print(a.dot(b)) # another matrix product"
   ]
  },
  {
   "cell_type": "code",
   "execution_count": 0,
   "metadata": {
    "colab": {},
    "colab_type": "code",
    "id": "Ly-AkxVbawia"
   },
   "outputs": [],
   "source": [
    "import numpy as np\n",
    "a = np.ones((2,3), dtype=int)\n",
    "b = np.random.random((2, 3))\n",
    "print(b)\n",
    "# a = a * 3\n",
    "a *=3\n",
    "print(a)\n",
    "b += a\n",
    "print(b)\n",
    "# 자료형 때문에 이경우는 곤란하다. int += float 이라 에러발생\n",
    "# a += b\n",
    "# print(a)"
   ]
  },
  {
   "cell_type": "markdown",
   "metadata": {
    "colab_type": "text",
    "id": "DsVi3FExcpcy"
   },
   "source": [
    "### 단항연산 : sum(), min(), max()\n"
   ]
  },
  {
   "cell_type": "code",
   "execution_count": 0,
   "metadata": {
    "colab": {},
    "colab_type": "code",
    "id": "WhRANKEdcowF"
   },
   "outputs": [],
   "source": [
    "import numpy as np\n",
    "\n",
    "a = [1, 2, 3, 4]\n",
    "a = np.array(a)\n",
    "print(a.sum())\n",
    "print(a.min())\n",
    "print(a.max())\n",
    "print(a.mean())\n",
    "\n"
   ]
  },
  {
   "cell_type": "markdown",
   "metadata": {
    "colab_type": "text",
    "id": "izvPIbVVdg0t"
   },
   "source": [
    "##**특정 축에 대해 연산 적용**"
   ]
  },
  {
   "cell_type": "code",
   "execution_count": 0,
   "metadata": {
    "colab": {},
    "colab_type": "code",
    "id": "wgcjugU9dmwY"
   },
   "outputs": [],
   "source": [
    "import numpy as np\n",
    "\n",
    "b = np.arange(12).reshape(3,4)\n",
    "print(b)\n",
    "\n",
    "#print(b.sum())\n",
    "print(b.sum(axis=1))    # sum of each row\n",
    "print(b.sum(axis=0))    # sum of each column\n",
    "print(b.sum(axis=None))\n",
    "\n",
    "print(b.cumsum(axis=1)) # cumulative sum along each row 누적 합"
   ]
  },
  {
   "cell_type": "markdown",
   "metadata": {
    "colab_type": "text",
    "id": "7CYcBrLmldQ1"
   },
   "source": [
    "###**Numpy 범용함수**"
   ]
  },
  {
   "cell_type": "code",
   "execution_count": 0,
   "metadata": {
    "colab": {},
    "colab_type": "code",
    "id": "lo-k77hKgWMd"
   },
   "outputs": [],
   "source": [
    "import numpy as np\n",
    "\n",
    "B = np.arange(3)\n",
    "print(B)\n",
    "print(np.exp(B))\n",
    "print(np.sqrt(B))\n",
    "\n",
    "C = np.array([2., -1., 4.])\n",
    "print(C)\n",
    "\n",
    "# B+=C\n",
    "print(np.add(B,C))\n",
    "#add(), subtract(), multiply(), sin(), cos()"
   ]
  },
  {
   "cell_type": "markdown",
   "metadata": {
    "colab_type": "text",
    "id": "NdDuNX6Zmsps"
   },
   "source": [
    "### **Numpy index / slice / iterate**"
   ]
  },
  {
   "cell_type": "code",
   "execution_count": 0,
   "metadata": {
    "colab": {},
    "colab_type": "code",
    "id": "BNVtNRECmzln"
   },
   "outputs": [],
   "source": [
    "#index  : ndarray 중에 하나를 선택\n",
    "import numpy as np\n",
    "\n",
    "a = np.arange(10)**2\n",
    "\n",
    "print(a)\n",
    "print(a[2])\n",
    "print(a[-1])"
   ]
  },
  {
   "cell_type": "code",
   "execution_count": 0,
   "metadata": {
    "colab": {},
    "colab_type": "code",
    "id": "BwdWXltVnfrF"
   },
   "outputs": [],
   "source": [
    "# slice : 파이썬과 동일하게 어레이를 slice 할 수 있다.\n",
    "import numpy as np\n",
    "\n",
    "a = np.arange(10)**2\n",
    "\n",
    "print(a[2:5])\n",
    "print(a[:4:2])\n",
    "print(a[::-1])    # reversed array"
   ]
  },
  {
   "cell_type": "code",
   "execution_count": 0,
   "metadata": {
    "colab": {},
    "colab_type": "code",
    "id": "zsCUSFb5oZQm"
   },
   "outputs": [],
   "source": [
    "#iterate\n",
    "import numpy as np\n",
    "\n",
    "a = np.arange(10)**2\n",
    "\n",
    "print(a)\n",
    "\n",
    "for i in a:     # 여기는 리스트지만 파일로 이루어진 행렬도 사용\n",
    "  print(i*2)"
   ]
  },
  {
   "cell_type": "markdown",
   "metadata": {
    "colab_type": "text",
    "id": "6tdyCKBYyJi6"
   },
   "source": [
    "##**slice 예제**"
   ]
  },
  {
   "cell_type": "code",
   "execution_count": 0,
   "metadata": {
    "colab": {},
    "colab_type": "code",
    "id": "9c7ZkWPdzxtv"
   },
   "outputs": [],
   "source": [
    "import numpy as np\n",
    "\n",
    "def f(x,y):\n",
    "  return x+y\n",
    "\n",
    "b = np.fromfunction(f, (5,4), dtype=int)\n",
    "\n",
    "print(b)\n",
    "print(b[2,3])   # index\n",
    "print(b[:,1])   # 전체 행, 열이 1\n",
    "print(b[1:3,:])\n",
    "\n",
    "print(b[-1]) # = print(b[-1,:])"
   ]
  },
  {
   "cell_type": "code",
   "execution_count": 0,
   "metadata": {
    "colab": {},
    "colab_type": "code",
    "id": "tGGA65m81gom"
   },
   "outputs": [],
   "source": [
    "for i in b.flat:      # flat -> 2차원을 1차원으로\n",
    "  print(i)\n",
    "  "
   ]
  },
  {
   "cell_type": "code",
   "execution_count": 0,
   "metadata": {
    "colab": {},
    "colab_type": "code",
    "id": "R4E9n-ev16Br"
   },
   "outputs": [],
   "source": [
    "import numpy as np\n",
    "\n",
    "def f(x,y,z):\n",
    "  return x+y+z\n",
    "b = np.fromfunction(f,(3,3,3), dtype=int)\n",
    "print(b)\n",
    "\n",
    "for i in b.flat:      # 3차원 행렬을 1차원으로, 한차원 줄이려면 reshape 사용\n",
    "  print(i)"
   ]
  },
  {
   "cell_type": "markdown",
   "metadata": {
    "colab_type": "text",
    "id": "OdgeVb2J3CFQ"
   },
   "source": [
    "### **numpy array의 형태를 바꾸기**"
   ]
  },
  {
   "cell_type": "code",
   "execution_count": 0,
   "metadata": {
    "colab": {},
    "colab_type": "code",
    "id": "nquivxQR2-2m"
   },
   "outputs": [],
   "source": [
    "import numpy as np\n",
    "\n",
    "b = np.arange(12).reshape(3, 4)\n",
    "\n",
    "print(b)\n",
    "print(b.shape)\n",
    "\n",
    "print(b.ravel())    # 1차원으로 펼쳐진 array를 반환한다."
   ]
  },
  {
   "cell_type": "code",
   "execution_count": 0,
   "metadata": {
    "colab": {},
    "colab_type": "code",
    "id": "TN6X513A3o00"
   },
   "outputs": [],
   "source": [
    "#reshpe : 새로운 형태를 갖는 어레이를 반환한다.\n",
    "print(b.reshape(4, 3))\n",
    "print(b.reshape(2, 6))\n",
    "print(b.reshape(6, 2))"
   ]
  },
  {
   "cell_type": "code",
   "execution_count": 0,
   "metadata": {
    "colab": {},
    "colab_type": "code",
    "id": "fCDAvF1a4CJB"
   },
   "outputs": [],
   "source": [
    "#전치행렬(Transposed array)을 반환한다.\n",
    "print(b.T)\n",
    "print(b.T**2)"
   ]
  },
  {
   "cell_type": "markdown",
   "metadata": {
    "colab_type": "text",
    "id": "RQty-Wkx4gIh"
   },
   "source": [
    "## **올림(Ceiling), 내림(floor)함수**"
   ]
  },
  {
   "cell_type": "code",
   "execution_count": 0,
   "metadata": {
    "colab": {},
    "colab_type": "code",
    "id": "lmB9cNSC4exz"
   },
   "outputs": [],
   "source": [
    "import numpy as np\n",
    "\n",
    "a = np.array([-1.7, -1.5, -0.2, 0.2, 1.5, 1.7, 2.0])\n",
    "print(np.floor(a))\n",
    "print(np.ceil(a))"
   ]
  },
  {
   "cell_type": "code",
   "execution_count": 0,
   "metadata": {
    "colab": {},
    "colab_type": "code",
    "id": "K3ED7pNt5aWY"
   },
   "outputs": [],
   "source": [
    "import numpy as np\n",
    "\n",
    "a = np.array([-1.7, -1.5, -1.4, -0.2, 0.2, 1.4, 1.5, 1.7, 2.0])\n",
    "print(np.around(a))"
   ]
  },
  {
   "cell_type": "code",
   "execution_count": 0,
   "metadata": {
    "colab": {},
    "colab_type": "code",
    "id": "rXVmegtH5qQr"
   },
   "outputs": [],
   "source": [
    "import numpy as np\n",
    "\n",
    "a = np.array([-1.7, -1.4, -0.2, 0.2, 1.4, 1.7, 2.0])\n",
    "print(np.amax(a))\n",
    "print(np.amin(a))"
   ]
  },
  {
   "cell_type": "code",
   "execution_count": 0,
   "metadata": {
    "colab": {},
    "colab_type": "code",
    "id": "jhYAGPCf8Gqt"
   },
   "outputs": [],
   "source": [
    "#argmax는 ndarray안에 있는 값이 아닌 인덱스 값을 출력한다.\n",
    "print(np.argmax(a))   # max값의 위치\n",
    "print(np.argmin(a))   # min값의 위치"
   ]
  }
 ],
 "metadata": {
  "colab": {
   "collapsed_sections": [],
   "name": "PythonEx1.ipynb",
   "private_outputs": true,
   "provenance": []
  },
  "kernelspec": {
   "display_name": "Python 3",
   "language": "python",
   "name": "python3"
  },
  "language_info": {
   "codemirror_mode": {
    "name": "ipython",
    "version": 3
   },
   "file_extension": ".py",
   "mimetype": "text/x-python",
   "name": "python",
   "nbconvert_exporter": "python",
   "pygments_lexer": "ipython3",
   "version": "3.6.10"
  }
 },
 "nbformat": 4,
 "nbformat_minor": 1
}
