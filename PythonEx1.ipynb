{
  "nbformat": 4,
  "nbformat_minor": 0,
  "metadata": {
    "colab": {
      "name": "PythonEx1.ipynb",
      "provenance": [],
      "private_outputs": true,
      "collapsed_sections": []
    },
    "kernelspec": {
      "name": "python3",
      "display_name": "Python 3"
    }
  },
  "cells": [
    {
      "cell_type": "code",
      "metadata": {
        "id": "HEQeJBN8t6WA",
        "colab_type": "code",
        "colab": {}
      },
      "source": [
        "import numpy as np\n",
        "a = np.arange(15).reshape(3,5)"
      ],
      "execution_count": 0,
      "outputs": []
    },
    {
      "cell_type": "code",
      "metadata": {
        "id": "GYgfz1apzzkn",
        "colab_type": "code",
        "colab": {}
      },
      "source": [
        "print(a)"
      ],
      "execution_count": 0,
      "outputs": []
    },
    {
      "cell_type": "code",
      "metadata": {
        "id": "Q1LIUDlA0OL6",
        "colab_type": "code",
        "colab": {}
      },
      "source": [
        "print('a.shape: ',a.shape)"
      ],
      "execution_count": 0,
      "outputs": []
    },
    {
      "cell_type": "code",
      "metadata": {
        "id": "iaG3wivY0jMi",
        "colab_type": "code",
        "colab": {}
      },
      "source": [
        "print('a.ndim: ',a.ndim)"
      ],
      "execution_count": 0,
      "outputs": []
    },
    {
      "cell_type": "code",
      "metadata": {
        "id": "qYPYngMf0qAc",
        "colab_type": "code",
        "colab": {}
      },
      "source": [
        "b = np.arange(15)\n",
        "print('b.ndim: ',b.ndim)"
      ],
      "execution_count": 0,
      "outputs": []
    },
    {
      "cell_type": "code",
      "metadata": {
        "id": "M3BLJX7m0zjD",
        "colab_type": "code",
        "colab": {}
      },
      "source": [
        "print('a.dtype.name: ',a.dtype.name)"
      ],
      "execution_count": 0,
      "outputs": []
    },
    {
      "cell_type": "code",
      "metadata": {
        "id": "K48OZV1s1DAS",
        "colab_type": "code",
        "colab": {}
      },
      "source": [
        "print('a.itemsize: ',a.itemsize)"
      ],
      "execution_count": 0,
      "outputs": []
    },
    {
      "cell_type": "code",
      "metadata": {
        "id": "eUmnuLJZ2MHB",
        "colab_type": "code",
        "colab": {}
      },
      "source": [
        "print('a.size: ',a.size)"
      ],
      "execution_count": 0,
      "outputs": []
    },
    {
      "cell_type": "code",
      "metadata": {
        "id": "byRMqyA92SEK",
        "colab_type": "code",
        "colab": {}
      },
      "source": [
        "print('type(a): ',type(a))"
      ],
      "execution_count": 0,
      "outputs": []
    },
    {
      "cell_type": "markdown",
      "metadata": {
        "id": "UtvxYfit55-m",
        "colab_type": "text"
      },
      "source": [
        "# Numpy 어레이 만들기\n",
        "## markdown 문법 쓴다고함 \n",
        "### #갯수 1~6까지 써서 글자크기 조절\n",
        "###**볼드**는 ** **"
      ]
    },
    {
      "cell_type": "code",
      "metadata": {
        "id": "tnVXeAGg2cbf",
        "colab_type": "code",
        "colab": {}
      },
      "source": [
        "#np.array()\n",
        "\n",
        "import numpy as np\n",
        "temp = [2,3,4]\n",
        "a = np.array(temp) # python list를 numpy array로 변환\n",
        "print(a)\n",
        "print(temp)"
      ],
      "execution_count": 0,
      "outputs": []
    },
    {
      "cell_type": "code",
      "metadata": {
        "id": "OJpi_OaX7HoV",
        "colab_type": "code",
        "colab": {}
      },
      "source": [
        "print(type(a))\n",
        "print(type(temp))"
      ],
      "execution_count": 0,
      "outputs": []
    },
    {
      "cell_type": "code",
      "metadata": {
        "id": "95Ms2OYM7KLQ",
        "colab_type": "code",
        "colab": {}
      },
      "source": [
        "print('a.ndim: ',a.ndim)\n",
        "# print('temp.ndim: ',temp.ndim) -> 에러\n",
        "\n",
        "print('a.dtype: ',a.dtype)"
      ],
      "execution_count": 0,
      "outputs": []
    },
    {
      "cell_type": "code",
      "metadata": {
        "id": "Z-9WYYwO7RNu",
        "colab_type": "code",
        "colab": {}
      },
      "source": [
        "temp2 = [1.2, 3.5, 5.1]\n",
        "b = np.array(temp2)\n",
        "print('b.dtype:', b.dtype)"
      ],
      "execution_count": 0,
      "outputs": []
    },
    {
      "cell_type": "code",
      "metadata": {
        "id": "Gyt4E8j78hhf",
        "colab_type": "code",
        "colab": {}
      },
      "source": [
        "import numpy as np\n",
        "\n",
        "c = np.array([(1.5, 2, 3), (4, 5, 6)])\n",
        "print(c)\n",
        "print(c.dtype)"
      ],
      "execution_count": 0,
      "outputs": []
    },
    {
      "cell_type": "code",
      "metadata": {
        "id": "2U6HHEpZ8759",
        "colab_type": "code",
        "colab": {}
      },
      "source": [
        "import numpy as np\n",
        "\n",
        "d = np.array([[1, 2], [3, 4]], dtype=complex)\n",
        "print(d)"
      ],
      "execution_count": 0,
      "outputs": []
    },
    {
      "cell_type": "markdown",
      "metadata": {
        "id": "DvcRm3kt-hXP",
        "colab_type": "text"
      },
      "source": [
        "### **np.zeros(), np.ones(), np.empty()**"
      ]
    },
    {
      "cell_type": "code",
      "metadata": {
        "id": "eh04BlQO-eFe",
        "colab_type": "code",
        "colab": {}
      },
      "source": [
        "import numpy as np\n",
        "# 튜플은 행렬 사이즈\n",
        "a = np.zeros((3,4))\n",
        "b = np.zeros([3,4])\n",
        "print(a)\n",
        "print(b)\n",
        "\n",
        "c = np.ones((2,3,4), dtype = np.int8)*255 # 또는 +254 => 흰 배경\n",
        "print(c)\n",
        "\n",
        "d = np.empty((2,3)) # 초기화 하지않고 쓰겠다는 의미\n",
        "print(d)"
      ],
      "execution_count": 0,
      "outputs": []
    },
    {
      "cell_type": "markdown",
      "metadata": {
        "id": "V6RSHdXCBHdm",
        "colab_type": "text"
      },
      "source": [
        "###**np.arange()**"
      ]
    },
    {
      "cell_type": "code",
      "metadata": {
        "id": "oURqQVMeBGLy",
        "colab_type": "code",
        "colab": {}
      },
      "source": [
        "import numpy as np\n",
        "\n",
        "a = np.arange(10, 40, 5) # (start, stop, step or interval)\n",
        "b = np.arange(0, 2, 0.3)\n",
        "\n",
        "print(a)\n",
        "print(b)"
      ],
      "execution_count": 0,
      "outputs": []
    },
    {
      "cell_type": "code",
      "metadata": {
        "id": "o72PlEBtCB49",
        "colab_type": "code",
        "colab": {}
      },
      "source": [
        "import numpy as np\n",
        "a = np.arange(12).reshape(4,3) # 2d array\n",
        "b = np.arange(24).reshape(2,3,4) # 3d array\n",
        "\n",
        "print(a)\n",
        "print(b)"
      ],
      "execution_count": 0,
      "outputs": []
    },
    {
      "cell_type": "code",
      "metadata": {
        "id": "cK2wF_w5Ce2B",
        "colab_type": "code",
        "colab": {}
      },
      "source": [
        "import numpy as np\n",
        "import sys\n",
        "a = np.arange(10000).reshape(100,100)\n",
        "np.set_printoptions(threshold=sys.maxsize)\n",
        "print(sys.maxsize)\n",
        "print(a)"
      ],
      "execution_count": 0,
      "outputs": []
    },
    {
      "cell_type": "markdown",
      "metadata": {
        "id": "mxwWm8f2Ur28",
        "colab_type": "text"
      },
      "source": [
        "### **numpy array의 산술연산"
      ]
    },
    {
      "cell_type": "code",
      "metadata": {
        "id": "KunH5b_jUp6i",
        "colab_type": "code",
        "colab": {}
      },
      "source": [
        "import numpy as np\n",
        "\n",
        "a = np.array([20, 30, 40, 50])\n",
        "b = np.arange(4)\n",
        "\n",
        "c = a - b\n",
        "\n",
        "print(a)\n",
        "print(b)\n",
        "\n",
        "print(c)\n",
        "\n",
        "d = [1, 2, 3, 4]\n",
        "e = [0, 1, 0, 1]\n",
        "f = d-e\n",
        "print(f)"
      ],
      "execution_count": 0,
      "outputs": []
    },
    {
      "cell_type": "code",
      "metadata": {
        "id": "mB8G1a9sW3-Q",
        "colab_type": "code",
        "colab": {}
      },
      "source": [
        "import numpy as np\n",
        "\n",
        "a = np.array([20, 30, 40, 50])\n",
        "b = np.arange(4)\n",
        "print(b)\n",
        "print(b**2)\n",
        "\n",
        "print(np.sin(a))\n",
        "\n",
        "for i in range(0, 100, 1):\n",
        "  print(np.sin(i/10))\n",
        "\n",
        "c = np.array(range(0,7,1))\n",
        "print(c)\n",
        "print(np.sin(c))"
      ],
      "execution_count": 0,
      "outputs": []
    },
    {
      "cell_type": "markdown",
      "metadata": {
        "id": "MfNrDFPmZhd6",
        "colab_type": "text"
      },
      "source": [
        "##**numpy array 곱셈연산, 행렬곱 연산**"
      ]
    },
    {
      "cell_type": "code",
      "metadata": {
        "id": "8bqdhfy_ZfnL",
        "colab_type": "code",
        "colab": {}
      },
      "source": [
        "import numpy as np\n",
        "\n",
        "a = np.array([[1, 1], [0, 1]])\n",
        "b = np.array([[2, 0], [3, 4]])\n",
        "\n",
        "print(a*b)      # elementwise product 각 요소마다 곱셈\n",
        "print(a@b)      # matrix product 행렬 곱\n",
        "print(a.dot(b)) # another matrix product"
      ],
      "execution_count": 0,
      "outputs": []
    },
    {
      "cell_type": "code",
      "metadata": {
        "id": "Ly-AkxVbawia",
        "colab_type": "code",
        "colab": {}
      },
      "source": [
        "import numpy as np\n",
        "a = np.ones((2,3), dtype=int)\n",
        "b = np.random.random((2, 3))\n",
        "print(b)\n",
        "# a = a * 3\n",
        "a *=3\n",
        "print(a)\n",
        "b += a\n",
        "print(b)\n",
        "# 자료형 때문에 이경우는 곤란하다. int += float 이라 에러발생\n",
        "# a += b\n",
        "# print(a)"
      ],
      "execution_count": 0,
      "outputs": []
    },
    {
      "cell_type": "markdown",
      "metadata": {
        "id": "DsVi3FExcpcy",
        "colab_type": "text"
      },
      "source": [
        "### 단항연산 : sum(), min(), max()\n"
      ]
    },
    {
      "cell_type": "code",
      "metadata": {
        "id": "WhRANKEdcowF",
        "colab_type": "code",
        "colab": {}
      },
      "source": [
        "import numpy as np\n",
        "\n",
        "a = [1, 2, 3, 4]\n",
        "a = np.array(a)\n",
        "print(a.sum())\n",
        "print(a.min())\n",
        "print(a.max())\n",
        "print(a.mean())\n",
        "\n"
      ],
      "execution_count": 0,
      "outputs": []
    },
    {
      "cell_type": "markdown",
      "metadata": {
        "id": "izvPIbVVdg0t",
        "colab_type": "text"
      },
      "source": [
        "##**특정 축에 대해 연산 적용**"
      ]
    },
    {
      "cell_type": "code",
      "metadata": {
        "id": "wgcjugU9dmwY",
        "colab_type": "code",
        "colab": {}
      },
      "source": [
        "import numpy as np\n",
        "\n",
        "b = np.arange(12).reshape(3,4)\n",
        "print(b)\n",
        "\n",
        "#print(b.sum())\n",
        "print(b.sum(axis=1))    # sum of each row\n",
        "print(b.sum(axis=0))    # sum of each column\n",
        "print(b.sum(axis=None))\n",
        "\n",
        "print(b.cumsum(axis=1)) # cumulative sum along each row 누적 합"
      ],
      "execution_count": 0,
      "outputs": []
    },
    {
      "cell_type": "markdown",
      "metadata": {
        "id": "7CYcBrLmldQ1",
        "colab_type": "text"
      },
      "source": [
        "###**Numpy 범용함수**"
      ]
    },
    {
      "cell_type": "code",
      "metadata": {
        "id": "lo-k77hKgWMd",
        "colab_type": "code",
        "colab": {}
      },
      "source": [
        "import numpy as np\n",
        "\n",
        "B = np.arange(3)\n",
        "print(B)\n",
        "print(np.exp(B))\n",
        "print(np.sqrt(B))\n",
        "\n",
        "C = np.array([2., -1., 4.])\n",
        "print(C)\n",
        "\n",
        "# B+=C\n",
        "print(np.add(B,C))\n",
        "#add(), subtract(), multiply(), sin(), cos()"
      ],
      "execution_count": 0,
      "outputs": []
    },
    {
      "cell_type": "markdown",
      "metadata": {
        "id": "NdDuNX6Zmsps",
        "colab_type": "text"
      },
      "source": [
        "### **Numpy index / slice / iterate**"
      ]
    },
    {
      "cell_type": "code",
      "metadata": {
        "id": "BNVtNRECmzln",
        "colab_type": "code",
        "colab": {}
      },
      "source": [
        "#index  : ndarray 중에 하나를 선택\n",
        "import numpy as np\n",
        "\n",
        "a = np.arange(10)**2\n",
        "\n",
        "print(a)\n",
        "print(a[2])\n",
        "print(a[-1])"
      ],
      "execution_count": 0,
      "outputs": []
    },
    {
      "cell_type": "code",
      "metadata": {
        "id": "BwdWXltVnfrF",
        "colab_type": "code",
        "colab": {}
      },
      "source": [
        "# slice : 파이썬과 동일하게 어레이를 slice 할 수 있다.\n",
        "import numpy as np\n",
        "\n",
        "a = np.arange(10)**2\n",
        "\n",
        "print(a[2:5])\n",
        "print(a[:4:2])\n",
        "print(a[::-1])    # reversed array"
      ],
      "execution_count": 0,
      "outputs": []
    },
    {
      "cell_type": "code",
      "metadata": {
        "id": "zsCUSFb5oZQm",
        "colab_type": "code",
        "colab": {}
      },
      "source": [
        "#iterate\n",
        "import numpy as np\n",
        "\n",
        "a = np.arange(10)**2\n",
        "\n",
        "print(a)\n",
        "\n",
        "for i in a:     # 여기는 리스트지만 파일로 이루어진 행렬도 사용\n",
        "  print(i*2)"
      ],
      "execution_count": 0,
      "outputs": []
    },
    {
      "cell_type": "markdown",
      "metadata": {
        "id": "6tdyCKBYyJi6",
        "colab_type": "text"
      },
      "source": [
        "##**slice 예제**"
      ]
    },
    {
      "cell_type": "code",
      "metadata": {
        "id": "9c7ZkWPdzxtv",
        "colab_type": "code",
        "colab": {}
      },
      "source": [
        "import numpy as np\n",
        "\n",
        "def f(x,y):\n",
        "  return x+y\n",
        "\n",
        "b = np.fromfunction(f, (5,4), dtype=int)\n",
        "\n",
        "print(b)\n",
        "print(b[2,3])   # index\n",
        "print(b[:,1])   # 전체 행, 열이 1\n",
        "print(b[1:3,:])\n",
        "\n",
        "print(b[-1]) # = print(b[-1,:])"
      ],
      "execution_count": 0,
      "outputs": []
    },
    {
      "cell_type": "code",
      "metadata": {
        "id": "tGGA65m81gom",
        "colab_type": "code",
        "colab": {}
      },
      "source": [
        "for i in b.flat:      # flat -> 2차원을 1차원으로\n",
        "  print(i)\n",
        "  "
      ],
      "execution_count": 0,
      "outputs": []
    },
    {
      "cell_type": "code",
      "metadata": {
        "id": "R4E9n-ev16Br",
        "colab_type": "code",
        "colab": {}
      },
      "source": [
        "import numpy as np\n",
        "\n",
        "def f(x,y,z):\n",
        "  return x+y+z\n",
        "b = np.fromfunction(f,(3,3,3), dtype=int)\n",
        "print(b)\n",
        "\n",
        "for i in b.flat:      # 3차원 행렬을 1차원으로, 한차원 줄이려면 reshape 사용\n",
        "  print(i)"
      ],
      "execution_count": 0,
      "outputs": []
    },
    {
      "cell_type": "markdown",
      "metadata": {
        "id": "OdgeVb2J3CFQ",
        "colab_type": "text"
      },
      "source": [
        "### **numpy array의 형태를 바꾸기**"
      ]
    },
    {
      "cell_type": "code",
      "metadata": {
        "id": "nquivxQR2-2m",
        "colab_type": "code",
        "colab": {}
      },
      "source": [
        "import numpy as np\n",
        "\n",
        "b = np.arange(12).reshape(3, 4)\n",
        "\n",
        "print(b)\n",
        "print(b.shape)\n",
        "\n",
        "print(b.ravel())    # 1차원으로 펼쳐진 array를 반환한다."
      ],
      "execution_count": 0,
      "outputs": []
    },
    {
      "cell_type": "code",
      "metadata": {
        "id": "TN6X513A3o00",
        "colab_type": "code",
        "colab": {}
      },
      "source": [
        "#reshpe : 새로운 형태를 갖는 어레이를 반환한다.\n",
        "print(b.reshape(4, 3))\n",
        "print(b.reshape(2, 6))\n",
        "print(b.reshape(6, 2))"
      ],
      "execution_count": 0,
      "outputs": []
    },
    {
      "cell_type": "code",
      "metadata": {
        "id": "fCDAvF1a4CJB",
        "colab_type": "code",
        "colab": {}
      },
      "source": [
        "#전치행렬(Transposed array)을 반환한다.\n",
        "print(b.T)\n",
        "print(b.T**2)"
      ],
      "execution_count": 0,
      "outputs": []
    },
    {
      "cell_type": "markdown",
      "metadata": {
        "id": "RQty-Wkx4gIh",
        "colab_type": "text"
      },
      "source": [
        "## **올림(Ceiling), 내림(floor)함수**"
      ]
    },
    {
      "cell_type": "code",
      "metadata": {
        "id": "lmB9cNSC4exz",
        "colab_type": "code",
        "colab": {}
      },
      "source": [
        "import numpy as np\n",
        "\n",
        "a = np.array([-1.7, -1.5, -0.2, 0.2, 1.5, 1.7, 2.0])\n",
        "print(np.floor(a))\n",
        "print(np.ceil(a))"
      ],
      "execution_count": 0,
      "outputs": []
    },
    {
      "cell_type": "code",
      "metadata": {
        "id": "K3ED7pNt5aWY",
        "colab_type": "code",
        "colab": {}
      },
      "source": [
        "import numpy as np\n",
        "\n",
        "a = np.array([-1.7, -1.5, -1.4, -0.2, 0.2, 1.4, 1.5, 1.7, 2.0])\n",
        "print(np.around(a))"
      ],
      "execution_count": 0,
      "outputs": []
    },
    {
      "cell_type": "code",
      "metadata": {
        "id": "rXVmegtH5qQr",
        "colab_type": "code",
        "colab": {}
      },
      "source": [
        "import numpy as np\n",
        "\n",
        "a = np.array([-1.7, -1.4, -0.2, 0.2, 1.4, 1.7, 2.0])\n",
        "print(np.amax(a))\n",
        "print(np.amin(a))\n",
        "print(np.argmax(a))   # max값의 위치\n",
        "print(np.argmin(a))   # min값의 위치"
      ],
      "execution_count": 0,
      "outputs": []
    },
    {
      "cell_type": "code",
      "metadata": {
        "id": "jhYAGPCf8Gqt",
        "colab_type": "code",
        "colab": {}
      },
      "source": [
        ""
      ],
      "execution_count": 0,
      "outputs": []
    }
  ]
}